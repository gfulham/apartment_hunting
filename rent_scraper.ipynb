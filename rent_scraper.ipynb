{
 "cells": [
  {
   "cell_type": "code",
   "execution_count": 4,
   "metadata": {},
   "outputs": [],
   "source": [
    "import requests\n",
    "from bs4 import BeautifulSoup\n",
    "import csv\n",
    "from datetime import datetime"
   ]
  },
  {
   "cell_type": "code",
   "execution_count": 8,
   "metadata": {},
   "outputs": [],
   "source": [
    "url = \"https://www.thebootranchapartments.com/floorplans\""
   ]
  },
  {
   "cell_type": "code",
   "execution_count": 9,
   "metadata": {},
   "outputs": [],
   "source": [
    "# Send a GET request to fetch the webpage content\n",
    "response = requests.get(url)\n",
    "soup = BeautifulSoup(response.content, 'html.parser')"
   ]
  },
  {
   "cell_type": "code",
   "execution_count": 10,
   "metadata": {},
   "outputs": [],
   "source": [
    "def extract_rent_info(soup):\n",
    "    # List to hold the data\n",
    "    rent_data = []\n",
    "    \n",
    "    # Example: assuming each floor plan is inside a container (adjust based on actual HTML structure)\n",
    "    floorplans = soup.find_all('div', class_='floorplanInfo')  # You may need to adjust the class name here\n",
    "    \n",
    "    if not floorplans:\n",
    "        print(\"No floorplans found!\")\n",
    "        return rent_data\n",
    "\n",
    "    for plan in floorplans:\n",
    "        try:\n",
    "            availability = plan.find('div', class_='floorplanAvailability')\n",
    "            if availability:\n",
    "                availability = availability.get_text(strip=True)\n",
    "            else:\n",
    "                availability = \"N/A\"\n",
    "            \n",
    "            # Extracting the name of the floor plan\n",
    "            name = plan.find('div', class_='floorplanName')\n",
    "            if name:\n",
    "                name = name.get_text(strip=True)\n",
    "            else:\n",
    "                name = \"N/A\"\n",
    "            \n",
    "            # Extracting stats: beds, baths, sqft\n",
    "            beds = plan.find('div', class_='floorplanBeds')\n",
    "            if beds:\n",
    "                beds = beds.find('div', class_='statValue').get_text(strip=True)\n",
    "            else:\n",
    "                beds = \"N/A\"\n",
    "            \n",
    "            baths = plan.find('div', class_='floorplanBaths')\n",
    "            if baths:\n",
    "                baths = baths.find('div', class_='statValue').get_text(strip=True)\n",
    "            else:\n",
    "                baths = \"N/A\"\n",
    "            \n",
    "            sqft = plan.find('div', class_='floorplanSquareFootage')\n",
    "            if sqft:\n",
    "                sqft = sqft.find('div', class_='statValue').get_text(strip=True)\n",
    "            else:\n",
    "                sqft = \"N/A\"\n",
    "\n",
    "            # Extracting the price\n",
    "            price = plan.find('span', class_='priceValueOverride')\n",
    "            if price:\n",
    "                price = price.get_text(strip=True)\n",
    "            else:\n",
    "                price = \"N/A\"\n",
    "\n",
    "            # Append the data to list\n",
    "            rent_data.append([availability, name, beds, baths, sqft, price])\n",
    "\n",
    "        except AttributeError as e:\n",
    "            print(f\"Error: {e}\")  # Print the error if something goes wrong\n",
    "\n",
    "    return rent_data"
   ]
  },
  {
   "cell_type": "code",
   "execution_count": 11,
   "metadata": {},
   "outputs": [],
   "source": [
    "rent_info = extract_rent_info(soup)"
   ]
  },
  {
   "cell_type": "code",
   "execution_count": 12,
   "metadata": {},
   "outputs": [
    {
     "name": "stdout",
     "output_type": "stream",
     "text": [
      "['Only 1 Vacant Unit Left!', 'D1', '4', '2', '1456', '$2424']\n",
      "['Available', 'C1', '3', '2', '1327', '$2170']\n",
      "['Available on October 4, 2024', 'B1', '2', '1', '967', '$2121']\n",
      "['Only 2 Vacant Units Left!', 'B2', '2', '2', '1128', '$2106']\n",
      "['Only 1 Vacant Unit Left!', 'A3', '1', '1', '790', '$1598']\n",
      "['Only 2 Vacant Units Left!', 'A2', '1', '1', '784', '$1443']\n",
      "['Only 2 Vacant Units Left!', 'A1', '1', '1', '633', '$1403']\n"
     ]
    }
   ],
   "source": [
    "for row in rent_info:\n",
    "    print(row)"
   ]
  },
  {
   "cell_type": "code",
   "execution_count": 20,
   "metadata": {},
   "outputs": [
    {
     "name": "stdout",
     "output_type": "stream",
     "text": [
      "['The Boot Ranch Apartments', 'Only 1 Vacant Unit Left!', 'D1', '4', '2', '1456', '$2424']\n",
      "['The Boot Ranch Apartments', 'Available', 'C1', '3', '2', '1327', '$2170']\n",
      "['The Boot Ranch Apartments', 'Available on October 4, 2024', 'B1', '2', '1', '967', '$2121']\n",
      "['The Boot Ranch Apartments', 'Only 2 Vacant Units Left!', 'B2', '2', '2', '1128', '$2106']\n",
      "['The Boot Ranch Apartments', 'Only 1 Vacant Unit Left!', 'A3', '1', '1', '790', '$1598']\n",
      "['The Boot Ranch Apartments', 'Only 2 Vacant Units Left!', 'A2', '1', '1', '784', '$1443']\n",
      "['The Boot Ranch Apartments', 'Only 2 Vacant Units Left!', 'A1', '1', '1', '633', '$1403']\n"
     ]
    }
   ],
   "source": [
    "apartment_name = \"The Boot Ranch Apartments\"\n",
    "\n",
    "# Update each row to include the apartment name\n",
    "for row in rent_info:\n",
    "    row.insert(0, apartment_name) \n",
    "\n",
    "for row in rent_info:\n",
    "    print(row)"
   ]
  },
  {
   "cell_type": "code",
   "execution_count": 21,
   "metadata": {},
   "outputs": [
    {
     "name": "stdout",
     "output_type": "stream",
     "text": [
      "['The Boot Ranch Apartments', 'Only 1 Vacant Unit Left!', 'D1', '4', '2', '1456', '$2424', '1.66']\n",
      "['The Boot Ranch Apartments', 'Available', 'C1', '3', '2', '1327', '$2170', '1.64']\n",
      "['The Boot Ranch Apartments', 'Available on October 4, 2024', 'B1', '2', '1', '967', '$2121', '2.19']\n",
      "['The Boot Ranch Apartments', 'Only 2 Vacant Units Left!', 'B2', '2', '2', '1128', '$2106', '1.87']\n",
      "['The Boot Ranch Apartments', 'Only 1 Vacant Unit Left!', 'A3', '1', '1', '790', '$1598', '2.02']\n",
      "['The Boot Ranch Apartments', 'Only 2 Vacant Units Left!', 'A2', '1', '1', '784', '$1443', '1.84']\n",
      "['The Boot Ranch Apartments', 'Only 2 Vacant Units Left!', 'A1', '1', '1', '633', '$1403', '2.22']\n"
     ]
    }
   ],
   "source": [
    "def add_price_per_sqft(data):\n",
    "    for row in data:\n",
    "        try:\n",
    "            # Extract price (remove dollar sign and commas) and convert to float\n",
    "            price = float(row[6].replace('$', '').replace(',', ''))\n",
    "            \n",
    "            # Extract square footage and convert to float\n",
    "            sqft = float(row[5])\n",
    "            \n",
    "            # Calculate price per square foot\n",
    "            price_per_sqft = price / sqft\n",
    "            \n",
    "            # Append the result (formatted to 2 decimal places)\n",
    "            row.append(f\"{price_per_sqft:.2f}\")\n",
    "        except (ValueError, IndexError) as e:\n",
    "            # Handle any conversion errors\n",
    "            print(f\"Error processing row {row}: {e}\")\n",
    "            row.append('N/A')  # Append 'N/A' if there's an issue\n",
    "\n",
    "# Add the calculation to each row\n",
    "add_price_per_sqft(rent_info)\n",
    "\n",
    "for row in rent_info:\n",
    "    print(row)"
   ]
  },
  {
   "cell_type": "code",
   "execution_count": 15,
   "metadata": {},
   "outputs": [],
   "source": [
    "timestamp = datetime.now().strftime(\"%Y-%m-%d_%H-%M-%S\")\n",
    "filename = f'C:/Users/onlyu/rent_data_{timestamp}.csv'\n",
    "def save_to_csv(data, filename=filename):\n",
    "    with open(filename, mode='w', newline='') as file:\n",
    "        writer = csv.writer(file)\n",
    "        # Write the header row\n",
    "        writer.writerow(['Availability', 'Name', 'Beds', 'Baths', 'Square Feet', 'Price'])\n",
    "        # Write the data rows\n",
    "        writer.writerows(data)"
   ]
  },
  {
   "cell_type": "code",
   "execution_count": 16,
   "metadata": {},
   "outputs": [],
   "source": [
    "save_to_csv(rent_info)"
   ]
  },
  {
   "cell_type": "code",
   "execution_count": 17,
   "metadata": {},
   "outputs": [],
   "source": [
    "import smtplib\n",
    "from email.mime.multipart import MIMEMultipart\n",
    "from email.mime.base import MIMEBase\n",
    "from email.mime.text import MIMEText\n",
    "from email import encoders\n",
    "import os"
   ]
  },
  {
   "cell_type": "code",
   "execution_count": 24,
   "metadata": {},
   "outputs": [
    {
     "name": "stdout",
     "output_type": "stream",
     "text": [
      "Email sent successfully!\n"
     ]
    }
   ],
   "source": [
    "sender_email = 'gregoryfulham@gmail.com'\n",
    "receiver_email = 'g_fulham@yahoo.com'\n",
    "subject = 'Daily Rent Data'\n",
    "body = 'Please find attached the rent data CSV file.'\n",
    "password = 'ywqs bjcg mcmz vlxn'\n",
    "\n",
    "# Set up the MIME\n",
    "msg = MIMEMultipart()\n",
    "msg['From'] = sender_email\n",
    "msg['To'] = receiver_email\n",
    "msg['Subject'] = subject\n",
    "\n",
    "# Create the HTML table for the email body\n",
    "html = \"\"\"\\\n",
    "<html>\n",
    "  <body>\n",
    "    <p>Hello,<br><br>\n",
    "       Please find the latest rent data below:\n",
    "    </p>\n",
    "    <table border=\"1\" cellpadding=\"5\" cellspacing=\"0\">\n",
    "      <tr>\n",
    "        <th>Apartment Name</th>\n",
    "        <th>Availability</th>\n",
    "        <th>Floorplan Name</th>\n",
    "        <th>Beds</th>\n",
    "        <th>Baths</th>\n",
    "        <th>Square Feet</th>\n",
    "        <th>Price</th>\n",
    "        <th>Price per Sq Ft</th>\n",
    "      </tr>\n",
    "\"\"\"\n",
    "\n",
    "# Add rows to the HTML table\n",
    "for row in rent_info:\n",
    "    html += f\"<tr><td>{row[0]}</td><td>{row[1]}</td><td>{row[2]}</td><td>{row[3]}</td><td>{row[4]}</td><td>{row[5]}</td><td>{row[6]}</td><td>{row[7]}</td></tr>\"\n",
    "\n",
    "# Close the table and HTML structure\n",
    "html += \"\"\"\\\n",
    "    </table>\n",
    "    <br>\n",
    "    Regards,<br>\n",
    "    Your Name\n",
    "  </body>\n",
    "</html>\n",
    "\"\"\"\n",
    "\n",
    "# Set up the MIME\n",
    "msg = MIMEMultipart(\"alternative\")\n",
    "msg['From'] = sender_email\n",
    "msg['To'] = receiver_email\n",
    "msg['Subject'] = subject\n",
    "\n",
    "# Attach the HTML content to the email\n",
    "msg.attach(MIMEText(html, 'html'))\n",
    "\n",
    "# SMTP server setup (Gmail example)\n",
    "smtp_server = 'smtp.gmail.com'\n",
    "port = 587  # For TLS\n",
    "\n",
    "# Send the email\n",
    "try:\n",
    "    server = smtplib.SMTP(smtp_server, port)\n",
    "    server.starttls()  # Secure the connection\n",
    "    server.login(sender_email, password)\n",
    "    server.sendmail(sender_email, receiver_email, msg.as_string())\n",
    "    print('Email sent successfully!')\n",
    "except Exception as e:\n",
    "    print(f'Error: {e}')\n",
    "finally:\n",
    "    server.quit()\n"
   ]
  }
 ],
 "metadata": {
  "kernelspec": {
   "display_name": "base",
   "language": "python",
   "name": "python3"
  },
  "language_info": {
   "codemirror_mode": {
    "name": "ipython",
    "version": 3
   },
   "file_extension": ".py",
   "mimetype": "text/x-python",
   "name": "python",
   "nbconvert_exporter": "python",
   "pygments_lexer": "ipython3",
   "version": "3.12.4"
  }
 },
 "nbformat": 4,
 "nbformat_minor": 2
}
